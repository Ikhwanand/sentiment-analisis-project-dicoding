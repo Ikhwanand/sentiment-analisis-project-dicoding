{
 "cells": [
  {
   "cell_type": "markdown",
   "metadata": {
    "cellUniqueIdByVincent": "c1b1e"
   },
   "source": [
    "# Scraping Dataset using google_play_scraper"
   ]
  },
  {
   "cell_type": "code",
   "execution_count": 1,
   "metadata": {
    "cellUniqueIdByVincent": "0c914"
   },
   "outputs": [],
   "source": [
    "from google_play_scraper import app, reviews_all, Sort\n",
    "import pandas  as pd \n",
    "import numpy as np \n",
    "\n",
    "\n",
    "np.random.seed(42)\n",
    "\n",
    "# Scrape reviews from Indodax app\n",
    "indodax_reviews = reviews_all(\n",
    "    'id.co.bitcoin', # Indodax app ID\n",
    "    lang='id', # Indonesian language\n",
    "    country='id', # Indonesian country\n",
    "    sort=Sort.MOST_RELEVANT,\n",
    "    count=1000  # Number of reviews to collect\n",
    ")\n"
   ]
  },
  {
   "cell_type": "code",
   "execution_count": null,
   "metadata": {
    "cellUniqueIdByVincent": "55d73"
   },
   "outputs": [],
   "source": [
    "# Save into csv file\n",
    "import csv\n",
    "\n",
    "with open('../data/ulasan_aplikasi_indodax.csv', mode='w', newline='', encoding='utf-8') as file:\n",
    "  writer = csv.writer(file)\n",
    "  writer.writerow(['Review'])\n",
    "  for review in indodax_reviews:\n",
    "    writer.writerow([review['content']])"
   ]
  },
  {
   "cell_type": "code",
   "execution_count": null,
   "metadata": {
    "cellUniqueIdByVincent": "a4724"
   },
   "outputs": [],
   "source": [
    "pd.DataFrame(indodax_reviews).to_csv('../data/reviews_aplikasi_indodax.csv', index=False)"
   ]
  }
 ],
 "metadata": {
  "kernelspec": {
   "display_name": "tf2",
   "language": "python",
   "name": "python3"
  },
  "language_info": {
   "name": "python",
   "version": "3.12.10"
  },
  "vincent": {
   "sessionId": "4ce843464770c9a19695b628_2025-04-27T16-50-40-073Z"
  }
 },
 "nbformat": 4,
 "nbformat_minor": 2
}
